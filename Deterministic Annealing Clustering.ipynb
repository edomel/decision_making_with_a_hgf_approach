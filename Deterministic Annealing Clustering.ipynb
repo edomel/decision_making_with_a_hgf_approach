{
 "cells": [
  {
   "cell_type": "code",
   "execution_count": 211,
   "metadata": {},
   "outputs": [],
   "source": [
    "import sklearn as skl\n",
    "import matplotlib.pyplot as plt\n",
    "import numpy as np\n",
    "import pandas as pd\n",
    "import scipy.io\n",
    "from sklearn.utils.validation import check_is_fitted"
   ]
  },
  {
   "cell_type": "code",
   "execution_count": 210,
   "metadata": {},
   "outputs": [
    {
     "name": "stderr",
     "output_type": "stream",
     "text": [
      "C:\\Users\\edoar\\Anaconda3\\lib\\site-packages\\ipykernel_launcher.py:44: RuntimeWarning: invalid value encountered in true_divide\n",
      "C:\\Users\\edoar\\Anaconda3\\lib\\site-packages\\ipykernel_launcher.py:35: RuntimeWarning: invalid value encountered in greater\n"
     ]
    }
   ],
   "source": [
    "X = np.array([[3, 4, -8.904, -5.974], [3, 4, -3.042, -6.077], [5, 2, -2.940, -6.065], [3, 2, -6.863, -5.992], [4, 5, -3.132, -4.162], [4, 4, -1.138, -4.087], [3, 3, -6.168, -6.091], [3, 4, -3.888, -5.187], [4, 4, -8.218, -5.992], [4, 4, -7.811, -5.977], [3, 4, -1.775, -5.698], [3, 3, -2.126, -6.102]])\n",
    "\n",
    "count = 0\n",
    "n_clusters = 2\n",
    "alpha = 0.99\n",
    "T_min = 0.001\n",
    "delta = 3\n",
    "samples, n_features = X.shape\n",
    "C_x = np.zeros((n_features, n_features))\n",
    "for i in range(samples):\n",
    "    C_x = C_x + (1 / samples) * np.transpose(X[i, :]) * X[i, :]\n",
    "eigval, eigvec = np.linalg.eig(C_x)\n",
    "T = float(2 * np.amax(eigval) + 1)\n",
    "T = T / alpha\n",
    "K = 1\n",
    "cluster_centers_ = np.zeros((2, n_features))\n",
    "cluster_centers_[0, :] = np.sum(X, axis=0) / samples\n",
    "cluster_probabs_ = np.zeros((samples, 2))\n",
    "cluster_probabs_[:, 0] = np.ones((samples, 2))[:, 0]\n",
    "prob_centroid = np.zeros((2, 1))\n",
    "prob_centroid[0] = 1\n",
    "\n",
    "while (T > T_min):\n",
    "    T = T * alpha\n",
    "    elements = np.zeros((samples, K + 1))\n",
    "    n = 0\n",
    "    temp_prob_centroid = np.copy(prob_centroid)\n",
    "    temp_cluster_centers_ = np.copy(cluster_centers_)\n",
    "    temp_cluster_probabs_ = np.copy(cluster_probabs_)\n",
    "        \n",
    "    while (n == 0 or (temp_prob_centroid - prob_centroid > 0.01).any() or (temp_cluster_centers_ - cluster_centers_ > 0.01).any() or (temp_cluster_probabs_ - cluster_probabs_ > 0.01).any()):\n",
    "        prob_centroid = np.copy(temp_prob_centroid)\n",
    "        cluster_centers_ = np.copy(temp_cluster_centers_)\n",
    "        cluster_probabs_ = np.copy(temp_cluster_probabs_)\n",
    "        n = 1\n",
    "        for i in range(K):\n",
    "            elements[:, i] = temp_prob_centroid[i] * np.exp(- (np.transpose(np.linalg.norm(X - temp_cluster_centers_[i, :], axis=1))) / T)\n",
    "        for i in range(K):\n",
    "            denom = np.transpose(np.sum(elements, axis=1))\n",
    "            temp_cluster_probabs_[:, i] = np.divide(elements[:, i], denom)\n",
    "            temp_prob_centroid[i] = float(np.sum(temp_cluster_probabs_[:, i])) / samples\n",
    "            temp_cluster_centers_[i, :] = ((np.transpose(np.matmul(np.transpose(X), temp_cluster_probabs_[:, i]))) / np.sum(temp_cluster_probabs_[:, i]))\n",
    "            Kold = K\n",
    "    if (Kold < n_clusters):\n",
    "        for i in range(Kold):\n",
    "            if (Kold < n_clusters):\n",
    "                C_x = np.zeros((n_features, n_features))\n",
    "                for j in range(samples):\n",
    "                    C_x = C_x + (cluster_probabs_[j, i] / (samples * prob_centroid[i])) * np.transpose(np.subtract(X[j, :], cluster_centers_[i, :])) * (np.subtract(X[j, :], cluster_centers_[i, :]))\n",
    "                eigval, eigvec = np.linalg.eig(C_x)\n",
    "                to_compare = 2 * np.amax(eigval)\n",
    "                if (K == n_clusters):\n",
    "                    break\n",
    "                if (T < to_compare):\n",
    "                    if K == 1:\n",
    "                        cluster_probabs_[:, i] = cluster_probabs_[:, i] / 2\n",
    "                        cluster_probabs_[:, i + 1] = cluster_probabs_[:, i]\n",
    "                        cluster_centers_[i + 1, :] = cluster_centers_[i, :] + delta\n",
    "                        prob_centroid[i] = prob_centroid[i] / 2\n",
    "                        prob_centroid[i + 1] = prob_centroid[i]\n",
    "                        K = K + 1\n",
    "                    else:\n",
    "                        cluster_probabs_[:, i] = cluster_probabs_[:, i] / 2\n",
    "                        cluster_probabs_ = np.append(cluster_probabs_, cluster_probabs_[:, i:i+1], axis=1)\n",
    "                        cluster_centers_ = np.append(cluster_centers_, ([cluster_centers_[i, :] + delta]), axis=0)\n",
    "                        prob_centroid[i] = prob_centroid[i] / 2\n",
    "                        prob_centroid = np.append(prob_centroid, prob_centroid[i])\n",
    "                        K = K + 1"
   ]
  },
  {
   "cell_type": "code",
   "execution_count": 214,
   "metadata": {},
   "outputs": [
    {
     "name": "stdout",
     "output_type": "stream",
     "text": [
      "Class membership probability\n",
      " [[9.99975528e-01 2.44721132e-05]\n",
      " [3.18624535e-04 9.99681375e-01]\n",
      " [3.39061355e-03 9.96609386e-01]\n",
      " [9.99699685e-01 3.00314748e-04]\n",
      " [8.79353998e-04 9.99120646e-01]\n",
      " [2.61983822e-05 9.99973802e-01]\n",
      " [9.99378447e-01 6.21553017e-04]\n",
      " [5.61343880e-03 9.94386561e-01]\n",
      " [9.99970441e-01 2.95589164e-05]\n",
      " [9.99965641e-01 3.43594102e-05]\n",
      " [2.44931641e-05 9.99975507e-01]\n",
      " [8.32566320e-05 9.99916743e-01]]\n",
      "Probability of class centroid\n",
      " [[0.41744381]\n",
      " [0.58255619]]\n",
      "Class centroids\n",
      " [[ 3.40077707  3.40016619 -7.58448248 -6.00398525]\n",
      " [ 3.57110044  3.71458589 -2.57655501 -5.33969697]]\n"
     ]
    }
   ],
   "source": [
    "print('Class membership probability\\n', cluster_probabs_)\n",
    "print('Probability of class centroid\\n', prob_centroid)\n",
    "print('Class centroids\\n', cluster_centers_)"
   ]
  }
 ],
 "metadata": {
  "kernelspec": {
   "display_name": "Python 3",
   "language": "python",
   "name": "python3"
  },
  "language_info": {
   "codemirror_mode": {
    "name": "ipython",
    "version": 3
   },
   "file_extension": ".py",
   "mimetype": "text/x-python",
   "name": "python",
   "nbconvert_exporter": "python",
   "pygments_lexer": "ipython3",
   "version": "3.7.1"
  }
 },
 "nbformat": 4,
 "nbformat_minor": 2
}
